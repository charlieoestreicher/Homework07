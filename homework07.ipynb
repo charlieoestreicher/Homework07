{
 "cells": [
  {
   "cell_type": "markdown",
   "metadata": {
    "editable": true,
    "slideshow": {
     "slide_type": ""
    },
    "tags": [
     "AST"
    ]
   },
   "source": [
    "<style>\n",
    "    @media print{\n",
    "        body {\n",
    "            position:relative !important;\n",
    "        }\n",
    "        .celltag_new_page {\n",
    "            page-break-before: always !important;\n",
    "        }\n",
    "    }\n",
    "</style>\n",
    "# COMPSCI 371 Homework 7"
   ]
  },
  {
   "cell_type": "markdown",
   "metadata": {
    "editable": true,
    "slideshow": {
     "slide_type": ""
    },
    "tags": [
     "T"
    ]
   },
   "source": [
    "_**Group Members:**_ Ethan Goldberg, Noah Costa, Charlie Oestreicher"
   ]
  },
  {
   "cell_type": "markdown",
   "metadata": {
    "editable": true,
    "slideshow": {
     "slide_type": ""
    },
    "tags": [
     "AT"
    ]
   },
   "source": [
    "### Problem 0 (3 points)"
   ]
  },
  {
   "cell_type": "markdown",
   "metadata": {
    "editable": true,
    "slideshow": {
     "slide_type": ""
    },
    "tags": [
     "AST"
    ]
   },
   "source": [
    "## Part 1: The Bootstrap Sampler"
   ]
  },
  {
   "cell_type": "markdown",
   "metadata": {
    "editable": true,
    "slideshow": {
     "slide_type": ""
    },
    "tags": [
     "AST"
    ]
   },
   "source": [
    "### Problem 1.1"
   ]
  },
  {
   "cell_type": "code",
   "execution_count": 4,
   "metadata": {},
   "outputs": [
    {
     "data": {
      "text/plain": [
       "array([[4, 3, 3, 4, 1, 1, 1],\n",
       "       [0, 2, 2, 4, 0, 4, 3]])"
      ]
     },
     "execution_count": 4,
     "metadata": {},
     "output_type": "execute_result"
    }
   ],
   "source": [
    "import numpy as np\n",
    "\n",
    "def sample(n, shape, gen):\n",
    "    # yes, this function could be one line,\n",
    "    # but this is far more readable.\n",
    "    m = np.prod(shape)\n",
    "    random_integers = gen.choice(n, size=m, replace=True)\n",
    "    result = random_integers.reshape(shape)\n",
    "    return result\n",
    "\n",
    "rng = np.random.default_rng(15)\n",
    "sample(5, (2, 7), rng)"
   ]
  },
  {
   "cell_type": "markdown",
   "metadata": {
    "editable": true,
    "slideshow": {
     "slide_type": ""
    },
    "tags": [
     "AST"
    ]
   },
   "source": [
    "### Problem 1.2 (Exam Style)"
   ]
  },
  {
   "cell_type": "markdown",
   "metadata": {},
   "source": [
    "$V_1 = \\{0,1,5,6,8\\}$"
   ]
  },
  {
   "cell_type": "markdown",
   "metadata": {
    "editable": true,
    "slideshow": {
     "slide_type": ""
    },
    "tags": [
     "AST"
    ]
   },
   "source": [
    "### Problem 1.3"
   ]
  },
  {
   "cell_type": "code",
   "execution_count": 5,
   "metadata": {},
   "outputs": [
    {
     "name": "stdout",
     "output_type": "stream",
     "text": [
      "When N = 10 and R = 10000:\n",
      "  m_hat_M / N = 0.35\n",
      "  sigma_hat_M / N = 0.1\n",
      "  m_M / N = 0.35\n",
      "  sigma_M / N = 0.15\n",
      "\n",
      "When N = 31 and R = 10000:\n",
      "  m_hat_M / N = 0.36\n",
      "  sigma_hat_M / N = 0.056\n",
      "  m_M / N = 0.36\n",
      "  sigma_M / N = 0.086\n",
      "\n",
      "When N = 100 and R = 10000:\n",
      "  m_hat_M / N = 0.37\n",
      "  sigma_hat_M / N = 0.031\n",
      "  m_M / N = 0.37\n",
      "  sigma_M / N = 0.048\n",
      "\n",
      "When N = 316 and R = 10000:\n",
      "  m_hat_M / N = 0.37\n",
      "  sigma_hat_M / N = 0.017\n",
      "  m_M / N = 0.37\n",
      "  sigma_M / N = 0.027\n",
      "\n",
      "When N = 1000 and R = 10000:\n",
      "  m_hat_M / N = 0.37\n",
      "  sigma_hat_M / N = 0.0099\n",
      "  m_M / N = 0.37\n",
      "  sigma_M / N = 0.015\n",
      "\n"
     ]
    },
    {
     "data": {
      "image/png": "[encoded data removed]",
      "text/plain": [
       "<Figure size 640x480 with 1 Axes>"
      ]
     },
     "metadata": {},
     "output_type": "display_data"
    }
   ],
   "source": [
    "import numpy as np\n",
    "import matplotlib.pyplot as plt\n",
    "\n",
    "def generate_bootstrap_validation_sets(N, R):\n",
    "    rng = np.random.default_rng(15)\n",
    "    training_bags = sample(N, (R, N), rng)\n",
    "    training_set = np.arange(N)  # Create the original training set.\n",
    "    validation_sets = [np.setdiff1d(training_set, training_bag) for training_bag in training_bags]\n",
    "    validation_lengths = [len(validation_set) for validation_set in validation_sets]\n",
    "\n",
    "    m_hat_M = np.mean(validation_lengths)\n",
    "    sigma_hat_M = np.std(validation_lengths)\n",
    "    \n",
    "    p = (1-(1/N))**N\n",
    "    m_M = p*N\n",
    "    sigma_M = np.sqrt(N*p*(1-p))\n",
    "    \n",
    "    return validation_lengths, m_hat_M, sigma_hat_M, m_M, sigma_M\n",
    "\n",
    "def show_graph(validation_lengths, N):\n",
    "    plt.hist(validation_lengths, bins=range(N + 2), align='left', rwidth=0.8)\n",
    "    plt.title(f'Histogram of Validation Set Sizes (N={N}, R={R})')\n",
    "    plt.xlabel('Validation Set Size')\n",
    "    plt.ylabel('Frequency')\n",
    "    x_labels = range(0, N+1, 5)  # Labels every 10 units\n",
    "    plt.xticks(x_labels)\n",
    "    plt.grid(axis='y', alpha=0.75)\n",
    "\n",
    "R = 10000\n",
    "for N in np.logspace(1,3,num=5,dtype=int):\n",
    "    validation_lengths, m_hat_M, sigma_hat_M, m_M, sigma_M = generate_bootstrap_validation_sets(N,R)\n",
    "    print(\"{}\\n{}\\n{}\\n{}\\n{}\\n\".format(\n",
    "        f\"When N = {N} and R = {R}:\", \n",
    "        f\"  m_hat_M / N = {m_hat_M/N:.2g}\", \n",
    "        f\"  sigma_hat_M / N = {sigma_hat_M/N:.2g}\",\n",
    "        f\"  m_M / N = {m_M/N:.2g}\",\n",
    "        f\"  sigma_M / N = {sigma_M/N:.2g}\"))\n",
    "    if N == 100:\n",
    "        show_graph(validation_lengths, N)"
   ]
  },
  {
   "cell_type": "markdown",
   "metadata": {
    "editable": true,
    "slideshow": {
     "slide_type": ""
    },
    "tags": [
     "AST"
    ]
   },
   "source": [
    "### Problem 1.4"
   ]
  },
  {
   "cell_type": "markdown",
   "metadata": {},
   "source": [
    "The empirical mean ratios are consistent with the statistical mean ratios. The empirical standard deviation ratios are not consistent with the statistical standard deviation ratios."
   ]
  },
  {
   "cell_type": "markdown",
   "metadata": {
    "editable": true,
    "slideshow": {
     "slide_type": ""
    },
    "tags": [
     "AST"
    ]
   },
   "source": [
    "### Problem 1.5 (Exam Style)"
   ]
  },
  {
   "cell_type": "markdown",
   "metadata": {},
   "source": [
    "The line that \"N Bernoulli random variables are independent\" is wrong. This is because he Event $E_n$ that determines if $I_n$ is 1 or 0 is dependent on our previous drawing from $T$."
   ]
  },
  {
   "cell_type": "markdown",
   "metadata": {
    "editable": true,
    "slideshow": {
     "slide_type": ""
    },
    "tags": [
     "AST"
    ]
   },
   "source": [
    "## Part 2: Cross-Validation with the Bootstrap"
   ]
  },
  {
   "cell_type": "markdown",
   "metadata": {
    "editable": true,
    "slideshow": {
     "slide_type": ""
    },
    "tags": [
     "AST"
    ]
   },
   "source": [
    "### Problem 2.1"
   ]
  },
  {
   "cell_type": "code",
   "execution_count": 6,
   "metadata": {
    "editable": true,
    "slideshow": {
     "slide_type": ""
    },
    "tags": [
     "AST"
    ]
   },
   "outputs": [],
   "source": [
    "from sklearn.linear_model import LogisticRegression\n",
    "import numpy as np\n",
    "from matplotlib import pyplot as plt\n",
    "from time import time"
   ]
  },
  {
   "cell_type": "code",
   "execution_count": 8,
   "metadata": {},
   "outputs": [],
   "source": [
    "def bootstrap_validation(t, c_values, n_folds, rng):\n",
    "    n = len(t.y)\n",
    "    k = len(c_values)\n",
    "    all_idx = np.arange(n, dtype=int)\n",
    "    s, s2 = np.zeros(k), np.zeros(k)\n",
    "\n",
    "    for fold in range(n_folds):\n",
    "        t_idx = sample(n, (n,), rng)\n",
    "        v_idx = np.setdiff1d(all_idx, t_idx)\n",
    "\n",
    "        for i, c in enumerate(c_values):\n",
    "            h = LogisticRegression(C=c, max_iter=10000)\n",
    "            h.fit(t.x[t_idx], t.y[t_idx])\n",
    "            acc = h.score(t.x[v_idx], t.y[v_idx])\n",
    "            s[i] += acc\n",
    "            s2[i] += acc ** 2\n",
    "\n",
    "    best_c_idx = np.argmax(s)\n",
    "    best_c = c_values[best_c_idx]\n",
    "    best_accuracy = s[best_c_idx] / n_folds\n",
    "    best_variance = (s2[best_c_idx] - best_accuracy * s[best_c_idx]) / (n_folds - 1)\n",
    "\n",
    "    best_h = LogisticRegression(C=best_c, max_iter=10000)\n",
    "    best_h.fit(t.x, t.y)\n",
    "\n",
    "    return best_h, best_accuracy, best_variance, s / n_folds\n"
   ]
  },
  {
   "cell_type": "code",
   "execution_count": 9,
   "metadata": {
    "editable": true,
    "slideshow": {
     "slide_type": ""
    },
    "tags": [
     "AST"
    ]
   },
   "outputs": [],
   "source": [
    "def experiment(c_range=np.logspace(-3, 3, num=20), n_folds=5):\n",
    "    rng = np.random.default_rng(15)\n",
    "    start = time()\n",
    "    clf, val_acc, val_acc_variance, c_acc = bootstrap_validation(\n",
    "        mnist.train, c_range, n_folds, rng\n",
    "    )\n",
    "    stop = time()\n",
    "    test_accuracy = clf.score(mnist.test.x, mnist.test.y)\n",
    "\n",
    "    print('time for bootstrap validation {:.1f} seconds'.format(stop - start))\n",
    "    plt.figure()\n",
    "    plt.semilogx(c_range, c_acc)\n",
    "    plt.xlabel('C'), plt.ylabel('validation accuracy')\n",
    "    print('best c: {:.4g}'.format(clf.C))\n",
    "    print('validation accuracy and variance: {:.4g}, {:.4g}'.format(val_acc, val_acc_variance))\n",
    "    print('test accuracy {:.4f}'.format(test_accuracy))\n",
    "    plt.show()"
   ]
  },
  {
   "cell_type": "code",
   "execution_count": 10,
   "metadata": {
    "editable": true,
    "slideshow": {
     "slide_type": ""
    },
    "tags": [
     "AST"
    ]
   },
   "outputs": [],
   "source": [
    "import urllib.request\n",
    "import ssl\n",
    "from os import path as osp\n",
    "import shutil"
   ]
  },
  {
   "cell_type": "code",
   "execution_count": 11,
   "metadata": {
    "editable": true,
    "slideshow": {
     "slide_type": ""
    },
    "tags": [
     "AST"
    ]
   },
   "outputs": [],
   "source": [
    "def retrieve(file_name, semester='fall23', homework=7):\n",
    "    if osp.exists(file_name):\n",
    "        print('Using previously downloaded file {}'.format(file_name))\n",
    "    else:\n",
    "        context = ssl._create_unverified_context()\n",
    "        fmt = 'https://www2.cs.duke.edu/courses/{}/compsci371/homework/{}/{}'\n",
    "        url = fmt.format(semester, homework, file_name)\n",
    "        with urllib.request.urlopen(url, context=context) as response:\n",
    "            with open(file_name, 'wb') as file:\n",
    "                shutil.copyfileobj(response, file)\n",
    "        print('Downloaded file {}'.format(file_name))"
   ]
  },
  {
   "cell_type": "code",
   "execution_count": 12,
   "metadata": {
    "editable": true,
    "slideshow": {
     "slide_type": ""
    },
    "tags": [
     "AST"
    ]
   },
   "outputs": [
    {
     "name": "stdout",
     "output_type": "stream",
     "text": [
      "Using previously downloaded file mnist.pickle\n"
     ]
    }
   ],
   "source": [
    "import pickle\n",
    "\n",
    "file_name = 'mnist.pickle'\n",
    "retrieve(file_name, homework=2)\n",
    "\n",
    "with open(file_name, 'rb') as file:\n",
    "    mnist = pickle.load(file)"
   ]
  },
  {
   "cell_type": "code",
   "execution_count": 13,
   "metadata": {},
   "outputs": [
    {
     "name": "stdout",
     "output_type": "stream",
     "text": [
      "time for bootstrap validation 48.0 seconds\n",
      "best c: 1.438\n",
      "validation accuracy and variance: 0.8477, 0.0002626\n",
      "test accuracy 0.8625\n"
     ]
    },
    {
     "data": {
      "image/png": "[encoded data removed]",
      "text/plain": [
       "<Figure size 640x480 with 1 Axes>"
      ]
     },
     "metadata": {},
     "output_type": "display_data"
    }
   ],
   "source": [
    "experiment()"
   ]
  },
  {
   "cell_type": "markdown",
   "metadata": {
    "editable": true,
    "slideshow": {
     "slide_type": ""
    },
    "tags": [
     "AST"
    ]
   },
   "source": [
    "### Problem 2.2 (Exam Style)"
   ]
  },
  {
   "cell_type": "markdown",
   "metadata": {},
   "source": [
    "No, it does not necessarily mean that the corresponding choice of best_c is better. This is our accuracy over the training set, not on our validation set. It does not mean that we will generalize better to unseen data just because our accuracy is better, because for best_accuracay we are using the empirical mean, rather than the statistical one."
   ]
  },
  {
   "cell_type": "markdown",
   "metadata": {
    "editable": true,
    "slideshow": {
     "slide_type": ""
    },
    "tags": [
     "AST"
    ]
   },
   "source": [
    "## Part 3: Basics of Linear Support Vector Machines "
   ]
  },
  {
   "cell_type": "markdown",
   "metadata": {
    "editable": true,
    "slideshow": {
     "slide_type": ""
    },
    "tags": [
     "AST"
    ]
   },
   "source": [
    "### Problem 3.1 (Exam Style)"
   ]
  },
  {
   "cell_type": "markdown",
   "metadata": {},
   "source": [
    "$\\bullet$ The optimal decision boundary is $\\tau^\\ast=0$\n",
    "\n",
    "$\\bullet$ The corresponding reference margin is $\\mu^\\ast=2$\n",
    "\n",
    "$\\bullet$ The corresponding parameters are $w^\\ast = \\frac{1}{2}, b^\\ast = 0$\n",
    "\n",
    "$\\bullet$ The value of the risk $L_T(w^\\ast, b^\\ast)=\\frac{1}{8}$\n",
    "\n",
    "$\\bullet$ $x \\ge 0$\n"
   ]
  },
  {
   "cell_type": "markdown",
   "metadata": {
    "editable": true,
    "slideshow": {
     "slide_type": ""
    },
    "tags": [
     "AST"
    ]
   },
   "source": [
    "## Part 4: Binary Linear SVMs and LRCs"
   ]
  },
  {
   "cell_type": "markdown",
   "metadata": {
    "editable": true,
    "slideshow": {
     "slide_type": ""
    },
    "tags": [
     "AST"
    ]
   },
   "source": [
    "### Problem 4.1 (Exam Style)"
   ]
  },
  {
   "cell_type": "markdown",
   "metadata": {},
   "source": [
    "In the case of the hyperplane at signed Euclidean distance $\\mu^*$, we want the equation generally to be in the form:"
   ]
  },
  {
   "cell_type": "markdown",
   "metadata": {},
   "source": [
    "$$wx+b = \\mu^*$$\n",
    "$$wx+b -\\mu^* = 0$$"
   ]
  },
  {
   "cell_type": "markdown",
   "metadata": {},
   "source": [
    "This equation equal to $w_+x+b_+ = 0$ when $w_+ = w$ and $b_+ = (b-\\mu^*)$"
   ]
  },
  {
   "cell_type": "markdown",
   "metadata": {},
   "source": [
    "We can do this aqain in the negative case:"
   ]
  },
  {
   "cell_type": "markdown",
   "metadata": {},
   "source": [
    "$$wx+b = -\\mu^*$$\n",
    "$$wx+b +\\mu^* = 0$$"
   ]
  },
  {
   "cell_type": "markdown",
   "metadata": {},
   "source": [
    "This equation equal to $w_-x+b_- = 0$ when $w_- = w$ and $b_- = (b+\\mu^*)$"
   ]
  },
  {
   "cell_type": "markdown",
   "metadata": {},
   "source": [
    "Summarizing:\n",
    "$$w_- = w$$\n",
    "$$b_- = (b+\\mu^*)$$\n",
    "$$w_+ = w$$\n",
    "$$b_+ = (b-\\mu^*)$$"
   ]
  },
  {
   "cell_type": "markdown",
   "metadata": {
    "editable": true,
    "slideshow": {
     "slide_type": ""
    },
    "tags": [
     "AST"
    ]
   },
   "source": [
    "### Problem 4.2"
   ]
  },
  {
   "cell_type": "code",
   "execution_count": 22,
   "metadata": {
    "editable": true,
    "slideshow": {
     "slide_type": ""
    },
    "tags": [
     "AST"
    ]
   },
   "outputs": [
    {
     "name": "stdout",
     "output_type": "stream",
     "text": [
      "Using previously downloaded file balanced.pickle\n"
     ]
    }
   ],
   "source": [
    "balanced_file_name = 'balanced.pickle'\n",
    "retrieve(balanced_file_name)"
   ]
  },
  {
   "cell_type": "code",
   "execution_count": 24,
   "metadata": {
    "editable": true,
    "slideshow": {
     "slide_type": ""
    },
    "tags": [
     "AST"
    ]
   },
   "outputs": [],
   "source": [
    "with open(balanced_file_name, 'rb') as file:\n",
    "    balanced_data = pickle.load(file)"
   ]
  },
  {
   "cell_type": "code",
   "execution_count": 25,
   "metadata": {
    "editable": true,
    "slideshow": {
     "slide_type": ""
    },
    "tags": [
     "AST"
    ]
   },
   "outputs": [],
   "source": [
    "def show_data(data, title):\n",
    "    fs = 12\n",
    "    x, y = data.x, data.y\n",
    "    labels, colors = (-1, 1), ('r', 'b')\n",
    "    for label, color in zip(labels, colors):\n",
    "        k = y == label\n",
    "        plt.plot(x[k, 0], x[k, 1], 'o' + color,\n",
    "                 label='y = {}'.format(label), ms=3)\n",
    "    plt.legend(fontsize=fs)\n",
    "    plt.axis('equal')\n",
    "    plt.axis('off')\n",
    "    plt.title(title, fontsize=fs)"
   ]
  },
  {
   "cell_type": "code",
   "execution_count": 26,
   "metadata": {},
   "outputs": [],
   "source": [
    "def show_train_test(data):\n",
    "    plt.figure(figsize=(10, 5), tight_layout=True)\n",
    "    fs = 12\n",
    "    for plot, (s, name) in enumerate(((data.train, 'training'), (data.test, 'test'))):\n",
    "        plt.subplot(1, 2, plot + 1)\n",
    "        show_data(s, '{} set'.format(name))\n",
    "    plt.show()"
   ]
  },
  {
   "cell_type": "code",
   "execution_count": 27,
   "metadata": {},
   "outputs": [
    {
     "data": {
      "image/png": "[encoded data removed]",
      "text/plain": [
       "<Figure size 1000x500 with 2 Axes>"
      ]
     },
     "metadata": {},
     "output_type": "display_data"
    }
   ],
   "source": [
    "show_train_test(balanced_data)"
   ]
  },
  {
   "cell_type": "code",
   "execution_count": 31,
   "metadata": {
    "editable": true,
    "slideshow": {
     "slide_type": ""
    },
    "tags": [
     "AST"
    ]
   },
   "outputs": [],
   "source": [
    "import matplotlib.pyplot as plt\n",
    "%matplotlib inline\n",
    "\n",
    "\n",
    "def draw_line(b, w, style):\n",
    "    xlim, ylim = plt.xlim(), plt.ylim()\n",
    "    if np.abs(w[0]) > np.abs(w[1]):\n",
    "        xs = np.array(xlim) + np.array([-1, 1])\n",
    "        ys = (-b - w[0] * xs) / w[1]\n",
    "    else:\n",
    "        ys = np.array(ylim) + np.array([-1, 1])\n",
    "        xs = (-b - w[1] * ys) / w[0]\n",
    "    plt.plot(xs, ys, style, c='k')\n",
    "    plt.xlim(xlim)\n",
    "    plt.ylim(ylim)"
   ]
  },
  {
   "cell_type": "markdown",
   "metadata": {},
   "source": []
  },
  {
   "cell_type": "code",
   "execution_count": 32,
   "metadata": {},
   "outputs": [],
   "source": [
    "def experiment(data, h, h_name):\n",
    "    h.fit(data.train.x, data.train.y)\n",
    "    train_accuracy = h.score(data.test.x, data.test.y) * 100\n",
    "    print(f\"{h_name} training Accuracy: {train_accuracy:.2f}%\")\n",
    "    plt.title(f\"{h_name} - Test Data\")\n",
    "    show_data(data.train, h_name)\n",
    "    norm = linalg.norm(h.coef_)\n",
    "    draw_line(h.intercept_, h.coef_.ravel(), '-')\n",
    "    plt.legend()\n",
    "    plt.show()\n",
    "    return h\n"
   ]
  },
  {
   "cell_type": "code",
   "execution_count": 33,
   "metadata": {},
   "outputs": [
    {
     "name": "stdout",
     "output_type": "stream",
     "text": [
      "LRC training Accuracy: 95.10%\n"
     ]
    },
    {
     "ename": "NameError",
     "evalue": "name 'linalg' is not defined",
     "output_type": "error",
     "traceback": [
      "\u001b[0;31m---------------------------------------------------------------------------\u001b[0m",
      "\u001b[0;31mNameError\u001b[0m                                 Traceback (most recent call last)",
      "Cell \u001b[0;32mIn[33], line 2\u001b[0m\n\u001b[1;32m      1\u001b[0m \u001b[38;5;28;01mfrom\u001b[39;00m \u001b[38;5;21;01msklearn\u001b[39;00m\u001b[38;5;21;01m.\u001b[39;00m\u001b[38;5;21;01msvm\u001b[39;00m \u001b[38;5;28;01mimport\u001b[39;00m SVC\n\u001b[0;32m----> 2\u001b[0m \u001b[43mexperiment\u001b[49m\u001b[43m(\u001b[49m\u001b[43mbalanced_data\u001b[49m\u001b[43m,\u001b[49m\u001b[43m \u001b[49m\u001b[43mLogisticRegression\u001b[49m\u001b[43m(\u001b[49m\u001b[43m)\u001b[49m\u001b[43m,\u001b[49m\u001b[43m \u001b[49m\u001b[38;5;124;43m'\u001b[39;49m\u001b[38;5;124;43mLRC\u001b[39;49m\u001b[38;5;124;43m'\u001b[39;49m\u001b[43m)\u001b[49m\n\u001b[1;32m      3\u001b[0m experiment(balanced_data, SVC(kernel\u001b[38;5;241m=\u001b[39m\u001b[38;5;124m'\u001b[39m\u001b[38;5;124mlinear\u001b[39m\u001b[38;5;124m'\u001b[39m), \u001b[38;5;124m'\u001b[39m\u001b[38;5;124mSVM\u001b[39m\u001b[38;5;124m'\u001b[39m)\n",
      "Cell \u001b[0;32mIn[32], line 7\u001b[0m, in \u001b[0;36mexperiment\u001b[0;34m(data, h, h_name)\u001b[0m\n\u001b[1;32m      5\u001b[0m plt\u001b[38;5;241m.\u001b[39mtitle(\u001b[38;5;124mf\u001b[39m\u001b[38;5;124m\"\u001b[39m\u001b[38;5;132;01m{\u001b[39;00mh_name\u001b[38;5;132;01m}\u001b[39;00m\u001b[38;5;124m - Test Data\u001b[39m\u001b[38;5;124m\"\u001b[39m)\n\u001b[1;32m      6\u001b[0m show_data(data\u001b[38;5;241m.\u001b[39mtrain, h_name)\n\u001b[0;32m----> 7\u001b[0m norm \u001b[38;5;241m=\u001b[39m \u001b[43mlinalg\u001b[49m\u001b[38;5;241m.\u001b[39mnorm(h\u001b[38;5;241m.\u001b[39mcoef_)\n\u001b[1;32m      8\u001b[0m draw_line(h\u001b[38;5;241m.\u001b[39mintercept_, h\u001b[38;5;241m.\u001b[39mcoef_\u001b[38;5;241m.\u001b[39mravel(), \u001b[38;5;124m'\u001b[39m\u001b[38;5;124m-\u001b[39m\u001b[38;5;124m'\u001b[39m)\n\u001b[1;32m      9\u001b[0m plt\u001b[38;5;241m.\u001b[39mlegend()\n",
      "\u001b[0;31mNameError\u001b[0m: name 'linalg' is not defined"
     ]
    },
    {
     "data": {
      "image/png": "[encoded data removed]",
      "text/plain": [
       "<Figure size 640x480 with 1 Axes>"
      ]
     },
     "metadata": {},
     "output_type": "display_data"
    }
   ],
   "source": [
    "from sklearn.svm import SVC\n",
    "experiment(balanced_data, LogisticRegression(), 'LRC')\n",
    "experiment(balanced_data, SVC(kernel='linear'), 'SVM')"
   ]
  },
  {
   "cell_type": "markdown",
   "metadata": {},
   "source": [
    "Comments:\n",
    "- (i) The datasets (train and test) are not linearly separable, and accuracy is therefore less than 100 percent.\n",
    "- (ii) Both classifiers generalize well, and in fact achieve testing accuracy that is slightly _greater_ than their training accuracy.\n",
    "- (iii) The two classifiers achieve equal performance on both the training set and the test set. Visually, they appear to compute the exact same boundary."
   ]
  },
  {
   "cell_type": "markdown",
   "metadata": {
    "editable": true,
    "slideshow": {
     "slide_type": ""
    },
    "tags": [
     "AST"
    ]
   },
   "source": [
    "### Problem 4.3"
   ]
  },
  {
   "cell_type": "code",
   "execution_count": null,
   "metadata": {},
   "outputs": [],
   "source": []
  },
  {
   "cell_type": "code",
   "execution_count": null,
   "metadata": {
    "editable": true,
    "slideshow": {
     "slide_type": ""
    },
    "tags": [
     "AST"
    ]
   },
   "outputs": [
    {
     "name": "stdout",
     "output_type": "stream",
     "text": [
      "Using previously downloaded file imbalanced.pickle\n"
     ]
    }
   ],
   "source": [
    "imbalanced_file_name = 'imbalanced.pickle'\n",
    "retrieve(imbalanced_file_name)"
   ]
  },
  {
   "cell_type": "code",
   "execution_count": null,
   "metadata": {
    "editable": true,
    "slideshow": {
     "slide_type": ""
    },
    "tags": [
     "AST"
    ]
   },
   "outputs": [],
   "source": [
    "with open(imbalanced_file_name, 'rb') as file:\n",
    "    imbalanced_data = pickle.load(file)"
   ]
  }
 ],
 "metadata": {
  "celltoolbar": "Tags",
  "kernelspec": {
   "display_name": "Python 3.11.5 ('compsci371')",
   "language": "python",
   "name": "python3"
  },
  "language_info": {
   "codemirror_mode": {
    "name": "ipython",
    "version": 3
   },
   "file_extension": ".py",
   "mimetype": "text/x-python",
   "name": "python",
   "nbconvert_exporter": "python",
   "pygments_lexer": "ipython3",
   "version": "3.11.5"
  },
  "pycharm": {
   "stem_cell": {
    "cell_type": "raw",
    "metadata": {
     "collapsed": false
    },
    "source": []
   }
  },
  "vscode": {
   "interpreter": {
    "hash": "d34346e3bce6797d943296db72cfa4b69e41eb925a30b5d6f8a54897f66d636b"
   }
  }
 },
 "nbformat": 4,
 "nbformat_minor": 4
}
