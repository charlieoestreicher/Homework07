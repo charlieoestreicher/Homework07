{
 "cells": [
  {
   "cell_type": "markdown",
   "metadata": {
    "editable": true,
    "slideshow": {
     "slide_type": ""
    },
    "tags": [
     "AST"
    ]
   },
   "source": [
    "<style>\n",
    "    @media print{\n",
    "        body {\n",
    "            position:relative !important;\n",
    "        }\n",
    "        .celltag_new_page {\n",
    "            page-break-before: always !important;\n",
    "        }\n",
    "    }\n",
    "</style>\n",
    "# COMPSCI 371 Homework 7"
   ]
  },
  {
   "cell_type": "markdown",
   "metadata": {
    "editable": true,
    "slideshow": {
     "slide_type": ""
    },
    "tags": [
     "T"
    ]
   },
   "source": [
    "_**Group Members:**_ Ethan Goldberg, Noah Costa, Charlie Oestreicher"
   ]
  },
  {
   "cell_type": "markdown",
   "metadata": {
    "editable": true,
    "slideshow": {
     "slide_type": ""
    },
    "tags": [
     "AT"
    ]
   },
   "source": [
    "### Problem 0 (3 points)"
   ]
  },
  {
   "cell_type": "markdown",
   "metadata": {
    "editable": true,
    "slideshow": {
     "slide_type": ""
    },
    "tags": [
     "AST"
    ]
   },
   "source": [
    "## Part 1: The Bootstrap Sampler"
   ]
  },
  {
   "cell_type": "markdown",
   "metadata": {
    "editable": true,
    "slideshow": {
     "slide_type": ""
    },
    "tags": [
     "AST"
    ]
   },
   "source": [
    "### Problem 1.1"
   ]
  },
  {
   "cell_type": "code",
   "execution_count": 4,
   "metadata": {},
   "outputs": [
    {
     "data": {
      "text/plain": [
       "array([[4, 3, 3, 4, 1, 1, 1],\n",
       "       [0, 2, 2, 4, 0, 4, 3]])"
      ]
     },
     "execution_count": 4,
     "metadata": {},
     "output_type": "execute_result"
    }
   ],
   "source": [
    "import numpy as np\n",
    "\n",
    "def sample(n, shape, gen):\n",
    "    # yes, this function could be one line,\n",
    "    # but this is far more readable.\n",
    "    m = np.prod(shape)\n",
    "    random_integers = gen.choice(n, size=m, replace=True)\n",
    "    result = random_integers.reshape(shape)\n",
    "    return result\n",
    "\n",
    "rng = np.random.default_rng(15)\n",
    "sample(5, (2, 7), rng)"
   ]
  },
  {
   "cell_type": "markdown",
   "metadata": {
    "editable": true,
    "slideshow": {
     "slide_type": ""
    },
    "tags": [
     "AST"
    ]
   },
   "source": [
    "### Problem 1.2 (Exam Style)"
   ]
  },
  {
   "cell_type": "markdown",
   "metadata": {},
   "source": [
    "$V_1 = \\{0,1,5,6,8\\}$"
   ]
  },
  {
   "cell_type": "markdown",
   "metadata": {
    "editable": true,
    "slideshow": {
     "slide_type": ""
    },
    "tags": [
     "AST"
    ]
   },
   "source": [
    "### Problem 1.3"
   ]
  },
  {
   "cell_type": "code",
   "execution_count": 70,
   "metadata": {},
   "outputs": [
    {
     "name": "stdout",
     "output_type": "stream",
     "text": [
      "When N = 10 and R = 10000:\n",
      "  m_hat_M / N = 0.35\n",
      "  sigma_hat_M / N = 0.1\n",
      "  m_M / N = 0.35\n",
      "  sigma_M / N = 0.15\n",
      "\n",
      "When N = 31 and R = 10000:\n",
      "  m_hat_M / N = 0.36\n",
      "  sigma_hat_M / N = 0.056\n",
      "  m_M / N = 0.36\n",
      "  sigma_M / N = 0.086\n",
      "\n",
      "When N = 100 and R = 10000:\n",
      "  m_hat_M / N = 0.37\n",
      "  sigma_hat_M / N = 0.031\n",
      "  m_M / N = 0.37\n",
      "  sigma_M / N = 0.048\n",
      "\n",
      "When N = 316 and R = 10000:\n",
      "  m_hat_M / N = 0.37\n",
      "  sigma_hat_M / N = 0.017\n",
      "  m_M / N = 0.37\n",
      "  sigma_M / N = 0.027\n",
      "\n",
      "When N = 1000 and R = 10000:\n",
      "  m_hat_M / N = 0.37\n",
      "  sigma_hat_M / N = 0.0099\n",
      "  m_M / N = 0.37\n",
      "  sigma_M / N = 0.015\n",
      "\n"
     ]
    },
    {
     "data": {
      "image/png": "[encoded data removed]",
      "text/plain": [
       "<Figure size 640x480 with 1 Axes>"
      ]
     },
     "metadata": {},
     "output_type": "display_data"
    }
   ],
   "source": [
    "import numpy as np\n",
    "import matplotlib.pyplot as plt\n",
    "\n",
    "def generate_bootstrap_validation_sets(N, R):\n",
    "    rng = np.random.default_rng(15)\n",
    "    training_bags = sample(N, (R, N), rng)\n",
    "    training_set = np.arange(N)  # Create the original training set.\n",
    "    validation_sets = [np.setdiff1d(training_set, training_bag) for training_bag in training_bags]\n",
    "    validation_lengths = [len(validation_set) for validation_set in validation_sets]\n",
    "\n",
    "    m_hat_M = np.mean(validation_lengths)\n",
    "    sigma_hat_M = np.std(validation_lengths)\n",
    "    \n",
    "    p = (1-(1/N))**N\n",
    "    m_M = p*N\n",
    "    sigma_M = np.sqrt(N*p*(1-p))\n",
    "    \n",
    "    return validation_lengths, m_hat_M, sigma_hat_M, m_M, sigma_M\n",
    "\n",
    "def show_graph(validation_lengths, N):\n",
    "    plt.hist(validation_lengths, bins=range(N + 2), align='left', rwidth=0.8)\n",
    "    plt.title(f'Histogram of Validation Set Sizes (N={N}, R={R})')\n",
    "    plt.xlabel('Validation Set Size')\n",
    "    plt.ylabel('Frequency')\n",
    "    x_labels = range(0, N+1, 5)  # Labels every 10 units\n",
    "    plt.xticks(x_labels)\n",
    "    plt.grid(axis='y', alpha=0.75)\n",
    "\n",
    "R = 10000\n",
    "for N in np.logspace(1,3,num=5,dtype=int):\n",
    "    validation_lengths, m_hat_M, sigma_hat_M, m_M, sigma_M = generate_bootstrap_validation_sets(N,R)\n",
    "    print(\"{}\\n{}\\n{}\\n{}\\n{}\\n\".format(\n",
    "        f\"When N = {N} and R = {R}:\", \n",
    "        f\"  m_hat_M / N = {m_hat_M/N:.2g}\", \n",
    "        f\"  sigma_hat_M / N = {sigma_hat_M/N:.2g}\",\n",
    "        f\"  m_M / N = {m_M/N:.2g}\",\n",
    "        f\"  sigma_M / N = {sigma_M/N:.2g}\"))\n",
    "    if N == 100:\n",
    "        show_graph(validation_lengths, N)"
   ]
  },
  {
   "cell_type": "markdown",
   "metadata": {
    "editable": true,
    "slideshow": {
     "slide_type": ""
    },
    "tags": [
     "AST"
    ]
   },
   "source": [
    "### Problem 1.4"
   ]
  },
  {
   "cell_type": "markdown",
   "metadata": {
    "editable": true,
    "slideshow": {
     "slide_type": ""
    },
    "tags": [
     "AST"
    ]
   },
   "source": [
    "### Problem 1.5 (Exam Style)"
   ]
  },
  {
   "cell_type": "markdown",
   "metadata": {
    "editable": true,
    "slideshow": {
     "slide_type": ""
    },
    "tags": [
     "AST"
    ]
   },
   "source": [
    "## Part 2: Cross-Validation with the Bootstrap"
   ]
  },
  {
   "cell_type": "markdown",
   "metadata": {
    "editable": true,
    "slideshow": {
     "slide_type": ""
    },
    "tags": [
     "AST"
    ]
   },
   "source": [
    "### Problem 2.1"
   ]
  },
  {
   "cell_type": "code",
   "execution_count": 7,
   "metadata": {
    "editable": true,
    "slideshow": {
     "slide_type": ""
    },
    "tags": [
     "AST"
    ]
   },
   "outputs": [],
   "source": [
    "from sklearn.linear_model import LogisticRegression\n",
    "import numpy as np\n",
    "from matplotlib import pyplot as plt\n",
    "from time import time\n",
    "from tqdm import tqdm"
   ]
  },
  {
   "cell_type": "code",
   "execution_count": 8,
   "metadata": {
    "editable": true,
    "slideshow": {
     "slide_type": ""
    },
    "tags": [
     "AST"
    ]
   },
   "outputs": [],
   "source": [
    "def experiment(c_range=np.logspace(-3, 3, num=20), n_folds=5):\n",
    "    rng = np.random.default_rng(15)\n",
    "    start = time()\n",
    "    clf, val_acc, val_acc_variance, c_acc = bootstrap_validation(\n",
    "        mnist.train, c_range, n_folds, rng\n",
    "    )\n",
    "    stop = time()\n",
    "    test_accuracy = clf.score(mnist.test.x, mnist.test.y)\n",
    "\n",
    "    print('time for bootstrap validation {:.1f} seconds'.format(stop - start))\n",
    "    plt.figure()\n",
    "    plt.semilogx(c_range, c_acc)\n",
    "    plt.xlabel('C'), plt.ylabel('validation accuracy')\n",
    "    print('best c: {:.4g}'.format(clf.C))\n",
    "    print('validation accuracy and variance: {:.4g}, {:.4g}'.format(val_acc, val_acc_variance))\n",
    "    print('test accuracy {:.4f}'.format(test_accuracy))\n",
    "    plt.show()"
   ]
  },
  {
   "cell_type": "code",
   "execution_count": 9,
   "metadata": {
    "editable": true,
    "slideshow": {
     "slide_type": ""
    },
    "tags": [
     "AST"
    ]
   },
   "outputs": [],
   "source": [
    "import urllib.request\n",
    "import ssl\n",
    "from os import path as osp\n",
    "import shutil"
   ]
  },
  {
   "cell_type": "code",
   "execution_count": 10,
   "metadata": {
    "editable": true,
    "slideshow": {
     "slide_type": ""
    },
    "tags": [
     "AST"
    ]
   },
   "outputs": [],
   "source": [
    "def retrieve(file_name, semester='fall23', homework=7):\n",
    "    if osp.exists(file_name):\n",
    "        print('Using previously downloaded file {}'.format(file_name))\n",
    "    else:\n",
    "        context = ssl._create_unverified_context()\n",
    "        fmt = 'https://www2.cs.duke.edu/courses/{}/compsci371/homework/{}/{}'\n",
    "        url = fmt.format(semester, homework, file_name)\n",
    "        with urllib.request.urlopen(url, context=context) as response:\n",
    "            with open(file_name, 'wb') as file:\n",
    "                shutil.copyfileobj(response, file)\n",
    "        print('Downloaded file {}'.format(file_name))"
   ]
  },
  {
   "cell_type": "code",
   "execution_count": 11,
   "metadata": {
    "editable": true,
    "slideshow": {
     "slide_type": ""
    },
    "tags": [
     "AST"
    ]
   },
   "outputs": [
    {
     "name": "stdout",
     "output_type": "stream",
     "text": [
      "Using previously downloaded file mnist.pickle\n"
     ]
    }
   ],
   "source": [
    "import pickle\n",
    "\n",
    "file_name = 'mnist.pickle'\n",
    "retrieve(file_name, homework=2)\n",
    "\n",
    "with open(file_name, 'rb') as file:\n",
    "    mnist = pickle.load(file)"
   ]
  },
  {
   "cell_type": "markdown",
   "metadata": {
    "editable": true,
    "slideshow": {
     "slide_type": ""
    },
    "tags": [
     "AST"
    ]
   },
   "source": [
    "### Problem 2.2 (Exam Style)"
   ]
  },
  {
   "cell_type": "markdown",
   "metadata": {
    "editable": true,
    "slideshow": {
     "slide_type": ""
    },
    "tags": [
     "AST"
    ]
   },
   "source": [
    "## Part 3: Basics of Linear Support Vector Machines "
   ]
  },
  {
   "cell_type": "markdown",
   "metadata": {
    "editable": true,
    "slideshow": {
     "slide_type": ""
    },
    "tags": [
     "AST"
    ]
   },
   "source": [
    "### Problem 3.1 (Exam Style)"
   ]
  },
  {
   "cell_type": "markdown",
   "metadata": {
    "editable": true,
    "slideshow": {
     "slide_type": ""
    },
    "tags": [
     "AST"
    ]
   },
   "source": [
    "## Part 4: Binary Linear SVMs and LRCs"
   ]
  },
  {
   "cell_type": "markdown",
   "metadata": {
    "editable": true,
    "slideshow": {
     "slide_type": ""
    },
    "tags": [
     "AST"
    ]
   },
   "source": [
    "### Problem 4.1 (Exam Style)"
   ]
  },
  {
   "cell_type": "markdown",
   "metadata": {
    "editable": true,
    "slideshow": {
     "slide_type": ""
    },
    "tags": [
     "AST"
    ]
   },
   "source": [
    "### Problem 4.2"
   ]
  },
  {
   "cell_type": "code",
   "execution_count": 14,
   "metadata": {
    "editable": true,
    "slideshow": {
     "slide_type": ""
    },
    "tags": [
     "AST"
    ]
   },
   "outputs": [
    {
     "name": "stdout",
     "output_type": "stream",
     "text": [
      "Using previously downloaded file balanced.pickle\n"
     ]
    }
   ],
   "source": [
    "balanced_file_name = 'balanced.pickle'\n",
    "retrieve(balanced_file_name)"
   ]
  },
  {
   "cell_type": "code",
   "execution_count": 15,
   "metadata": {
    "editable": true,
    "slideshow": {
     "slide_type": ""
    },
    "tags": [
     "AST"
    ]
   },
   "outputs": [],
   "source": [
    "with open(balanced_file_name, 'rb') as file:\n",
    "    balanced_data = pickle.load(file)"
   ]
  },
  {
   "cell_type": "code",
   "execution_count": 16,
   "metadata": {
    "editable": true,
    "slideshow": {
     "slide_type": ""
    },
    "tags": [
     "AST"
    ]
   },
   "outputs": [],
   "source": [
    "def show_data(data, title):\n",
    "    fs = 12\n",
    "    x, y = data.x, data.y\n",
    "    labels, colors = (-1, 1), ('r', 'b')\n",
    "    for label, color in zip(labels, colors):\n",
    "        k = y == label\n",
    "        plt.plot(x[k, 0], x[k, 1], 'o' + color,\n",
    "                 label='y = {}'.format(label), ms=3)\n",
    "    plt.legend(fontsize=fs)\n",
    "    plt.axis('equal')\n",
    "    plt.axis('off')\n",
    "    plt.title(title, fontsize=fs)"
   ]
  },
  {
   "cell_type": "code",
   "execution_count": 19,
   "metadata": {
    "editable": true,
    "slideshow": {
     "slide_type": ""
    },
    "tags": [
     "AST"
    ]
   },
   "outputs": [],
   "source": [
    "import matplotlib.pyplot as plt\n",
    "%matplotlib inline\n",
    "\n",
    "\n",
    "def draw_line(b, w, style):\n",
    "    xlim, ylim = plt.xlim(), plt.ylim()\n",
    "    if np.abs(w[0]) > np.abs(w[1]):\n",
    "        xs = np.array(xlim) + np.array([-1, 1])\n",
    "        ys = (-b - w[0] * xs) / w[1]\n",
    "    else:\n",
    "        ys = np.array(ylim) + np.array([-1, 1])\n",
    "        xs = (-b - w[1] * ys) / w[0]\n",
    "    plt.plot(xs, ys, style, c='k')\n",
    "    plt.xlim(xlim)\n",
    "    plt.ylim(ylim)"
   ]
  },
  {
   "cell_type": "markdown",
   "metadata": {},
   "source": [
    "Comments:\n",
    "- (i) The datasets (train and test) are not linearly separable, and accuracy is therefore less than 100 percent.\n",
    "- (ii) Both classifiers generalize well, and in fact achieve testing accuracy that is slightly _greater_ than their training accuracy.\n",
    "- (iii) The two classifiers achieve equal performance on both the training set and the test set. Visually, they appear to compute the exact same boundary."
   ]
  },
  {
   "cell_type": "markdown",
   "metadata": {
    "editable": true,
    "slideshow": {
     "slide_type": ""
    },
    "tags": [
     "AST"
    ]
   },
   "source": [
    "### Problem 4.3"
   ]
  },
  {
   "cell_type": "code",
   "execution_count": 25,
   "metadata": {
    "editable": true,
    "slideshow": {
     "slide_type": ""
    },
    "tags": [
     "AST"
    ]
   },
   "outputs": [
    {
     "name": "stdout",
     "output_type": "stream",
     "text": [
      "Using previously downloaded file imbalanced.pickle\n"
     ]
    }
   ],
   "source": [
    "imbalanced_file_name = 'imbalanced.pickle'\n",
    "retrieve(imbalanced_file_name)"
   ]
  },
  {
   "cell_type": "code",
   "execution_count": 26,
   "metadata": {
    "editable": true,
    "slideshow": {
     "slide_type": ""
    },
    "tags": [
     "AST"
    ]
   },
   "outputs": [],
   "source": [
    "with open(imbalanced_file_name, 'rb') as file:\n",
    "    imbalanced_data = pickle.load(file)"
   ]
  }
 ],
 "metadata": {
  "celltoolbar": "Tags",
  "kernelspec": {
   "display_name": "Python 3 (ipykernel)",
   "language": "python",
   "name": "python3"
  },
  "language_info": {
   "codemirror_mode": {
    "name": "ipython",
    "version": 3
   },
   "file_extension": ".py",
   "mimetype": "text/x-python",
   "name": "python",
   "nbconvert_exporter": "python",
   "pygments_lexer": "ipython3",
   "version": "3.11.5"
  },
  "pycharm": {
   "stem_cell": {
    "cell_type": "raw",
    "metadata": {
     "collapsed": false
    },
    "source": []
   }
  }
 },
 "nbformat": 4,
 "nbformat_minor": 4
}
